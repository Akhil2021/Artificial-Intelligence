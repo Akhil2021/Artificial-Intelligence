{
 "cells": [
  {
   "cell_type": "code",
   "execution_count": 2,
   "metadata": {},
   "outputs": [],
   "source": [
    "import numpy as np\n",
    "import pandas as pd\n",
    "import matplotlib.pyplot as plt"
   ]
  },
  {
   "cell_type": "code",
   "execution_count": 151,
   "metadata": {},
   "outputs": [],
   "source": [
    "\n",
    "import types\n",
    "import pandas as pd\n",
    "from botocore.client import Config\n",
    "import ibm_boto3\n",
    "\n",
    "def __iter__(self): return 0\n",
    "\n",
    "# @hidden_cell\n",
    "# The following code accesses a file in your IBM Cloud Object Storage. It includes your credentials.\n",
    "# You might want to remove those credentials before you share your notebook.\n",
    "client_a3cd8056bd774324a358f7cbe8750ab3 = ibm_boto3.client(service_name='s3',\n",
    "    ibm_api_key_id='s-AACA_h4KhTEG4FNytVJM2aVIv3UqFtj-10tXU7Wct2',\n",
    "    ibm_auth_endpoint=\"https://iam.bluemix.net/oidc/token\",\n",
    "    config=Config(signature_version='oauth'),\n",
    "    endpoint_url='https://s3.eu-geo.objectstorage.service.networklayer.com')\n",
    "\n",
    "body = client_a3cd8056bd774324a358f7cbe8750ab3.get_object(Bucket='akhil1999-donotdelete-pr-b8h9n9zmrjekz3',Key='akh.csv')['Body']\n",
    "# add missing __iter__ method, so pandas accepts body as file-like object\n",
    "if not hasattr(body, \"__iter__\"): body.__iter__ = types.MethodType( __iter__, body )\n",
    "\n",
    "\n",
    "\n",
    "dataset = pd.read_csv(body)"
   ]
  },
  {
   "cell_type": "code",
   "execution_count": 152,
   "metadata": {},
   "outputs": [
    {
     "data": {
      "text/html": [
       "<div>\n",
       "<style scoped>\n",
       "    .dataframe tbody tr th:only-of-type {\n",
       "        vertical-align: middle;\n",
       "    }\n",
       "\n",
       "    .dataframe tbody tr th {\n",
       "        vertical-align: top;\n",
       "    }\n",
       "\n",
       "    .dataframe thead th {\n",
       "        text-align: right;\n",
       "    }\n",
       "</style>\n",
       "<table border=\"1\" class=\"dataframe\">\n",
       "  <thead>\n",
       "    <tr style=\"text-align: right;\">\n",
       "      <th></th>\n",
       "      <th>Age</th>\n",
       "      <th>HeartBeat</th>\n",
       "      <th>Systolic</th>\n",
       "      <th>Diastolic</th>\n",
       "      <th>Sugar</th>\n",
       "      <th>Alert</th>\n",
       "    </tr>\n",
       "  </thead>\n",
       "  <tbody>\n",
       "    <tr>\n",
       "      <th>0</th>\n",
       "      <td>18</td>\n",
       "      <td>49</td>\n",
       "      <td>90</td>\n",
       "      <td>60</td>\n",
       "      <td>80</td>\n",
       "      <td>0</td>\n",
       "    </tr>\n",
       "    <tr>\n",
       "      <th>1</th>\n",
       "      <td>18</td>\n",
       "      <td>49</td>\n",
       "      <td>90</td>\n",
       "      <td>60</td>\n",
       "      <td>100</td>\n",
       "      <td>0</td>\n",
       "    </tr>\n",
       "    <tr>\n",
       "      <th>2</th>\n",
       "      <td>18</td>\n",
       "      <td>49</td>\n",
       "      <td>90</td>\n",
       "      <td>60</td>\n",
       "      <td>120</td>\n",
       "      <td>0</td>\n",
       "    </tr>\n",
       "    <tr>\n",
       "      <th>3</th>\n",
       "      <td>18</td>\n",
       "      <td>49</td>\n",
       "      <td>90</td>\n",
       "      <td>60</td>\n",
       "      <td>140</td>\n",
       "      <td>0</td>\n",
       "    </tr>\n",
       "    <tr>\n",
       "      <th>4</th>\n",
       "      <td>18</td>\n",
       "      <td>49</td>\n",
       "      <td>90</td>\n",
       "      <td>60</td>\n",
       "      <td>160</td>\n",
       "      <td>0</td>\n",
       "    </tr>\n",
       "  </tbody>\n",
       "</table>\n",
       "</div>"
      ],
      "text/plain": [
       "   Age  HeartBeat  Systolic  Diastolic  Sugar  Alert\n",
       "0   18         49        90         60     80      0\n",
       "1   18         49        90         60    100      0\n",
       "2   18         49        90         60    120      0\n",
       "3   18         49        90         60    140      0\n",
       "4   18         49        90         60    160      0"
      ]
     },
     "execution_count": 152,
     "metadata": {},
     "output_type": "execute_result"
    }
   ],
   "source": [
    "dataset.head()"
   ]
  },
  {
   "cell_type": "code",
   "execution_count": 153,
   "metadata": {},
   "outputs": [],
   "source": [
    "x= dataset.iloc[:,:5].values"
   ]
  },
  {
   "cell_type": "code",
   "execution_count": 154,
   "metadata": {},
   "outputs": [
    {
     "data": {
      "text/plain": [
       "numpy.ndarray"
      ]
     },
     "execution_count": 154,
     "metadata": {},
     "output_type": "execute_result"
    }
   ],
   "source": [
    "type(x)"
   ]
  },
  {
   "cell_type": "code",
   "execution_count": 155,
   "metadata": {},
   "outputs": [
    {
     "data": {
      "text/plain": [
       "array([[ 18,  49,  90,  60,  80],\n",
       "       [ 18,  49,  90,  60, 100],\n",
       "       [ 18,  49,  90,  60, 120],\n",
       "       ..., \n",
       "       [ 55,  79, 181, 121, 341],\n",
       "       [ 55,  79, 181, 121, 361],\n",
       "       [ 55,  79, 181, 121, 381]])"
      ]
     },
     "execution_count": 155,
     "metadata": {},
     "output_type": "execute_result"
    }
   ],
   "source": [
    "x"
   ]
  },
  {
   "cell_type": "code",
   "execution_count": 156,
   "metadata": {},
   "outputs": [],
   "source": [
    "y= dataset.iloc[:,-1:].values"
   ]
  },
  {
   "cell_type": "code",
   "execution_count": 157,
   "metadata": {},
   "outputs": [
    {
     "data": {
      "text/plain": [
       "array([[0],\n",
       "       [0],\n",
       "       [0],\n",
       "       ..., \n",
       "       [1],\n",
       "       [1],\n",
       "       [1]])"
      ]
     },
     "execution_count": 157,
     "metadata": {},
     "output_type": "execute_result"
    }
   ],
   "source": [
    "y"
   ]
  },
  {
   "cell_type": "code",
   "execution_count": 158,
   "metadata": {},
   "outputs": [],
   "source": [
    "from sklearn.model_selection import train_test_split           \n",
    "x_train,x_test,y_train,y_test=train_test_split(x,y,test_size=0.2,random_state=0)"
   ]
  },
  {
   "cell_type": "code",
   "execution_count": 159,
   "metadata": {},
   "outputs": [],
   "source": [
    "import keras \n",
    "from keras.models import Sequential \n",
    "from keras.layers import Dense "
   ]
  },
  {
   "cell_type": "code",
   "execution_count": 160,
   "metadata": {},
   "outputs": [],
   "source": [
    "model=Sequential()"
   ]
  },
  {
   "cell_type": "code",
   "execution_count": 161,
   "metadata": {},
   "outputs": [
    {
     "name": "stderr",
     "output_type": "stream",
     "text": [
      "/opt/conda/envs/DSX-Python35/lib/python3.5/site-packages/ipykernel/__main__.py:1: UserWarning: Update your `Dense` call to the Keras 2 API: `Dense(activation=\"relu\", kernel_initializer=\"random_uniform\", units=3, input_dim=5)`\n",
      "  if __name__ == '__main__':\n"
     ]
    }
   ],
   "source": [
    "model.add(Dense(input_dim=5,init=\"random_uniform\",activation=\"relu\",output_dim=3))"
   ]
  },
  {
   "cell_type": "code",
   "execution_count": 162,
   "metadata": {},
   "outputs": [
    {
     "name": "stderr",
     "output_type": "stream",
     "text": [
      "/opt/conda/envs/DSX-Python35/lib/python3.5/site-packages/ipykernel/__main__.py:1: UserWarning: Update your `Dense` call to the Keras 2 API: `Dense(activation=\"relu\", kernel_initializer=\"random_uniform\", units=3)`\n",
      "  if __name__ == '__main__':\n"
     ]
    }
   ],
   "source": [
    "model.add(Dense(output_dim=3,init=\"random_uniform\",activation=\"relu\"))"
   ]
  },
  {
   "cell_type": "code",
   "execution_count": 163,
   "metadata": {},
   "outputs": [
    {
     "name": "stderr",
     "output_type": "stream",
     "text": [
      "/opt/conda/envs/DSX-Python35/lib/python3.5/site-packages/ipykernel/__main__.py:1: UserWarning: Update your `Dense` call to the Keras 2 API: `Dense(activation=\"sigmoid\", kernel_initializer=\"random_uniform\", units=1)`\n",
      "  if __name__ == '__main__':\n"
     ]
    }
   ],
   "source": [
    "model.add(Dense(output_dim=1,init=\"random_uniform\",activation=\"sigmoid\"))"
   ]
  },
  {
   "cell_type": "code",
   "execution_count": 164,
   "metadata": {},
   "outputs": [],
   "source": [
    "model.compile(optimizer='adam',loss='binary_crossentropy',metrics=['accuracy'])"
   ]
  },
  {
   "cell_type": "code",
   "execution_count": 165,
   "metadata": {
    "scrolled": true
   },
   "outputs": [
    {
     "name": "stdout",
     "output_type": "stream",
     "text": [
      "Epoch 1/100\n",
      "17600/17600 [==============================] - 1s 47us/step - loss: 0.3000 - acc: 0.9444\n",
      "Epoch 2/100\n",
      "17600/17600 [==============================] - 1s 35us/step - loss: 0.1598 - acc: 0.9488\n",
      "Epoch 3/100\n",
      "17600/17600 [==============================] - 1s 39us/step - loss: 0.1555 - acc: 0.9488\n",
      "Epoch 4/100\n",
      "17600/17600 [==============================] - 1s 35us/step - loss: 0.1517 - acc: 0.9488\n",
      "Epoch 5/100\n",
      "17600/17600 [==============================] - 1s 39us/step - loss: 0.1483 - acc: 0.9488\n",
      "Epoch 6/100\n",
      "17600/17600 [==============================] - 1s 35us/step - loss: 0.1455 - acc: 0.9488\n",
      "Epoch 7/100\n",
      "17600/17600 [==============================] - 1s 38us/step - loss: 0.1429 - acc: 0.9488\n",
      "Epoch 8/100\n",
      "17600/17600 [==============================] - 1s 35us/step - loss: 0.1411 - acc: 0.9488\n",
      "Epoch 9/100\n",
      "17600/17600 [==============================] - 1s 39us/step - loss: 0.1397 - acc: 0.9488\n",
      "Epoch 10/100\n",
      "17600/17600 [==============================] - 1s 39us/step - loss: 0.1387 - acc: 0.9486\n",
      "Epoch 11/100\n",
      "17600/17600 [==============================] - 1s 35us/step - loss: 0.1380 - acc: 0.9486\n",
      "Epoch 12/100\n",
      "17600/17600 [==============================] - 1s 39us/step - loss: 0.1376 - acc: 0.9485\n",
      "Epoch 13/100\n",
      "17600/17600 [==============================] - 1s 36us/step - loss: 0.1370 - acc: 0.9488\n",
      "Epoch 14/100\n",
      "17600/17600 [==============================] - 1s 39us/step - loss: 0.1364 - acc: 0.9485: 0s - loss: 0.1351 - acc: 0\n",
      "Epoch 15/100\n",
      "17600/17600 [==============================] - 1s 39us/step - loss: 0.1360 - acc: 0.9485\n",
      "Epoch 16/100\n",
      "17600/17600 [==============================] - 1s 35us/step - loss: 0.1355 - acc: 0.9485\n",
      "Epoch 17/100\n",
      "17600/17600 [==============================] - 1s 39us/step - loss: 0.1345 - acc: 0.9488\n",
      "Epoch 18/100\n",
      "17600/17600 [==============================] - 1s 35us/step - loss: 0.1325 - acc: 0.9488\n",
      "Epoch 19/100\n",
      "17600/17600 [==============================] - 1s 38us/step - loss: 0.1309 - acc: 0.9488\n",
      "Epoch 20/100\n",
      "17600/17600 [==============================] - 1s 35us/step - loss: 0.1290 - acc: 0.9487: 0s - loss: 0.1321 - acc: 0.\n",
      "Epoch 21/100\n",
      "17600/17600 [==============================] - 1s 39us/step - loss: 0.1270 - acc: 0.9488\n",
      "Epoch 22/100\n",
      "17600/17600 [==============================] - 1s 35us/step - loss: 0.1246 - acc: 0.9485\n",
      "Epoch 23/100\n",
      "17600/17600 [==============================] - 1s 39us/step - loss: 0.1227 - acc: 0.9483\n",
      "Epoch 24/100\n",
      "17600/17600 [==============================] - 1s 35us/step - loss: 0.1211 - acc: 0.9483\n",
      "Epoch 25/100\n",
      "17600/17600 [==============================] - 1s 39us/step - loss: 0.1192 - acc: 0.9481\n",
      "Epoch 26/100\n",
      "17600/17600 [==============================] - 1s 35us/step - loss: 0.1174 - acc: 0.9484\n",
      "Epoch 27/100\n",
      "17600/17600 [==============================] - 1s 39us/step - loss: 0.1157 - acc: 0.9481\n",
      "Epoch 28/100\n",
      "17600/17600 [==============================] - 1s 39us/step - loss: 0.1138 - acc: 0.9484\n",
      "Epoch 29/100\n",
      "17600/17600 [==============================] - 1s 35us/step - loss: 0.1133 - acc: 0.9481\n",
      "Epoch 30/100\n",
      "17600/17600 [==============================] - 1s 39us/step - loss: 0.1113 - acc: 0.9486: 0s - loss: 0.1101 - acc: \n",
      "Epoch 31/100\n",
      "17600/17600 [==============================] - 1s 39us/step - loss: 0.1099 - acc: 0.9486\n",
      "Epoch 32/100\n",
      "17600/17600 [==============================] - 1s 35us/step - loss: 0.1092 - acc: 0.9491\n",
      "Epoch 33/100\n",
      "17600/17600 [==============================] - 1s 39us/step - loss: 0.1079 - acc: 0.9495\n",
      "Epoch 34/100\n",
      "17600/17600 [==============================] - 1s 39us/step - loss: 0.1061 - acc: 0.9495\n",
      "Epoch 35/100\n",
      "17600/17600 [==============================] - 1s 35us/step - loss: 0.1049 - acc: 0.9497\n",
      "Epoch 36/100\n",
      "17600/17600 [==============================] - 1s 39us/step - loss: 0.1037 - acc: 0.9501: 0s - loss: 0.1041 - acc: \n",
      "Epoch 37/100\n",
      "17600/17600 [==============================] - 1s 35us/step - loss: 0.1025 - acc: 0.9506\n",
      "Epoch 38/100\n",
      "17600/17600 [==============================] - 1s 39us/step - loss: 0.1012 - acc: 0.9513\n",
      "Epoch 39/100\n",
      "17600/17600 [==============================] - 1s 35us/step - loss: 0.0999 - acc: 0.9520\n",
      "Epoch 40/100\n",
      "17600/17600 [==============================] - 1s 39us/step - loss: 0.0982 - acc: 0.9524\n",
      "Epoch 41/100\n",
      "17600/17600 [==============================] - 1s 35us/step - loss: 0.0966 - acc: 0.9524\n",
      "Epoch 42/100\n",
      "17600/17600 [==============================] - 1s 38us/step - loss: 0.0959 - acc: 0.9533\n",
      "Epoch 43/100\n",
      "17600/17600 [==============================] - 1s 35us/step - loss: 0.0936 - acc: 0.9539\n",
      "Epoch 44/100\n",
      "17600/17600 [==============================] - 1s 39us/step - loss: 0.0921 - acc: 0.9542\n",
      "Epoch 45/100\n",
      "17600/17600 [==============================] - 1s 36us/step - loss: 0.0912 - acc: 0.9551\n",
      "Epoch 46/100\n",
      "17600/17600 [==============================] - 1s 39us/step - loss: 0.0893 - acc: 0.9557\n",
      "Epoch 47/100\n",
      "17600/17600 [==============================] - 1s 35us/step - loss: 0.0874 - acc: 0.9569\n",
      "Epoch 48/100\n",
      "17600/17600 [==============================] - 1s 39us/step - loss: 0.0856 - acc: 0.9585\n",
      "Epoch 49/100\n",
      "17600/17600 [==============================] - 1s 35us/step - loss: 0.0846 - acc: 0.9592\n",
      "Epoch 50/100\n",
      "17600/17600 [==============================] - 1s 38us/step - loss: 0.0826 - acc: 0.9598\n",
      "Epoch 51/100\n",
      "17600/17600 [==============================] - 1s 35us/step - loss: 0.0806 - acc: 0.9610: 0s - loss: 0.0827 - acc: 0.\n",
      "Epoch 52/100\n",
      "17600/17600 [==============================] - 1s 39us/step - loss: 0.0798 - acc: 0.9614\n",
      "Epoch 53/100\n",
      "17600/17600 [==============================] - 1s 39us/step - loss: 0.0783 - acc: 0.9632\n",
      "Epoch 54/100\n",
      "17600/17600 [==============================] - 1s 39us/step - loss: 0.0764 - acc: 0.9638\n",
      "Epoch 55/100\n",
      "17600/17600 [==============================] - 1s 36us/step - loss: 0.0756 - acc: 0.9641\n",
      "Epoch 56/100\n",
      "17600/17600 [==============================] - 1s 39us/step - loss: 0.0731 - acc: 0.9654\n",
      "Epoch 57/100\n",
      "17600/17600 [==============================] - 1s 35us/step - loss: 0.0724 - acc: 0.9670\n",
      "Epoch 58/100\n",
      "17600/17600 [==============================] - 1s 39us/step - loss: 0.0710 - acc: 0.9676\n",
      "Epoch 59/100\n",
      "17600/17600 [==============================] - 1s 36us/step - loss: 0.0689 - acc: 0.9694\n",
      "Epoch 60/100\n",
      "17600/17600 [==============================] - 1s 38us/step - loss: 0.0685 - acc: 0.9689: 0s - loss: 0.0685 - acc: 0.968\n",
      "Epoch 61/100\n",
      "17600/17600 [==============================] - 1s 35us/step - loss: 0.0667 - acc: 0.9703\n",
      "Epoch 62/100\n",
      "17600/17600 [==============================] - 1s 38us/step - loss: 0.0666 - acc: 0.9708\n",
      "Epoch 63/100\n",
      "17600/17600 [==============================] - 1s 35us/step - loss: 0.0654 - acc: 0.9709\n",
      "Epoch 64/100\n",
      "17600/17600 [==============================] - 1s 39us/step - loss: 0.0634 - acc: 0.9721\n",
      "Epoch 65/100\n",
      "17600/17600 [==============================] - 1s 35us/step - loss: 0.0628 - acc: 0.9728\n",
      "Epoch 66/100\n",
      "17600/17600 [==============================] - 1s 38us/step - loss: 0.0610 - acc: 0.9739\n",
      "Epoch 67/100\n",
      "17600/17600 [==============================] - 1s 35us/step - loss: 0.0606 - acc: 0.9748: 0s - loss: 0.0633 - acc: 0\n",
      "Epoch 68/100\n",
      "17600/17600 [==============================] - 1s 39us/step - loss: 0.0613 - acc: 0.9735\n",
      "Epoch 69/100\n",
      "17600/17600 [==============================] - 1s 35us/step - loss: 0.0594 - acc: 0.9758\n",
      "Epoch 70/100\n",
      "17600/17600 [==============================] - 1s 39us/step - loss: 0.0594 - acc: 0.9742\n",
      "Epoch 71/100\n",
      "17600/17600 [==============================] - 1s 35us/step - loss: 0.0581 - acc: 0.9755\n",
      "Epoch 72/100\n",
      "17600/17600 [==============================] - 1s 39us/step - loss: 0.0570 - acc: 0.9760\n",
      "Epoch 73/100\n",
      "17600/17600 [==============================] - 1s 40us/step - loss: 0.0578 - acc: 0.9765\n",
      "Epoch 74/100\n",
      "17600/17600 [==============================] - 1s 35us/step - loss: 0.0563 - acc: 0.9767\n",
      "Epoch 75/100\n",
      "17600/17600 [==============================] - 1s 39us/step - loss: 0.0561 - acc: 0.9757\n",
      "Epoch 76/100\n",
      "17600/17600 [==============================] - 1s 39us/step - loss: 0.0556 - acc: 0.9768\n",
      "Epoch 77/100\n",
      "17600/17600 [==============================] - 1s 35us/step - loss: 0.0549 - acc: 0.9772: 0s - loss: 0.0522 - acc: 0.\n",
      "Epoch 78/100\n",
      "17600/17600 [==============================] - 1s 39us/step - loss: 0.0550 - acc: 0.9766\n",
      "Epoch 79/100\n",
      "17600/17600 [==============================] - 1s 35us/step - loss: 0.0547 - acc: 0.9765\n",
      "Epoch 80/100\n",
      "17600/17600 [==============================] - 1s 39us/step - loss: 0.0543 - acc: 0.9777\n",
      "Epoch 81/100\n",
      "17600/17600 [==============================] - 1s 35us/step - loss: 0.0539 - acc: 0.9781\n",
      "Epoch 82/100\n",
      "17600/17600 [==============================] - 1s 39us/step - loss: 0.0574 - acc: 0.9760: 0s - loss: 0.0583 - acc: 0.\n",
      "Epoch 83/100\n",
      "17600/17600 [==============================] - 1s 35us/step - loss: 0.0538 - acc: 0.9776\n",
      "Epoch 84/100\n",
      "17600/17600 [==============================] - 1s 38us/step - loss: 0.0519 - acc: 0.9784\n",
      "Epoch 85/100\n",
      "17600/17600 [==============================] - 1s 39us/step - loss: 0.0523 - acc: 0.9784\n",
      "Epoch 86/100\n",
      "17600/17600 [==============================] - 1s 35us/step - loss: 0.0523 - acc: 0.9795\n",
      "Epoch 87/100\n",
      "17600/17600 [==============================] - 1s 35us/step - loss: 0.0521 - acc: 0.9777: 0s - loss: 0.0533 - acc: 0.\n",
      "Epoch 88/100\n",
      "17600/17600 [==============================] - 1s 39us/step - loss: 0.0526 - acc: 0.9787\n",
      "Epoch 89/100\n",
      "17600/17600 [==============================] - 1s 35us/step - loss: 0.0510 - acc: 0.9793\n",
      "Epoch 90/100\n",
      "17600/17600 [==============================] - 1s 39us/step - loss: 0.0536 - acc: 0.9785\n",
      "Epoch 91/100\n",
      "17600/17600 [==============================] - 1s 39us/step - loss: 0.0522 - acc: 0.9786\n",
      "Epoch 92/100\n",
      "17600/17600 [==============================] - 1s 35us/step - loss: 0.0518 - acc: 0.9787\n",
      "Epoch 93/100\n",
      "17600/17600 [==============================] - 1s 40us/step - loss: 0.0508 - acc: 0.9794\n",
      "Epoch 94/100\n",
      "17600/17600 [==============================] - 1s 39us/step - loss: 0.0516 - acc: 0.9795\n",
      "Epoch 95/100\n",
      "17600/17600 [==============================] - 1s 39us/step - loss: 0.0501 - acc: 0.9797\n",
      "Epoch 96/100\n",
      "17600/17600 [==============================] - 1s 35us/step - loss: 0.0498 - acc: 0.9801\n",
      "Epoch 97/100\n",
      "17600/17600 [==============================] - 1s 39us/step - loss: 0.0508 - acc: 0.9791: 2s - loss: 0.0512 - acc:\n",
      "Epoch 98/100\n",
      "17600/17600 [==============================] - 1s 35us/step - loss: 0.0517 - acc: 0.9788\n",
      "Epoch 99/100\n",
      "17600/17600 [==============================] - 1s 38us/step - loss: 0.0507 - acc: 0.9797\n",
      "Epoch 100/100\n",
      "17600/17600 [==============================] - 1s 35us/step - loss: 0.0509 - acc: 0.9794\n"
     ]
    },
    {
     "data": {
      "text/plain": [
       "<keras.callbacks.History at 0x7fbb8c67c898>"
      ]
     },
     "execution_count": 165,
     "metadata": {},
     "output_type": "execute_result"
    }
   ],
   "source": [
    "model.fit(x_train,y_train,epochs=100,batch_size=100)"
   ]
  },
  {
   "cell_type": "code",
   "execution_count": 179,
   "metadata": {},
   "outputs": [],
   "source": [
    "model.save(\"project.h5\")"
   ]
  },
  {
   "cell_type": "code",
   "execution_count": 166,
   "metadata": {},
   "outputs": [],
   "source": [
    "y_pred=model.predict(x_test)"
   ]
  },
  {
   "cell_type": "code",
   "execution_count": 167,
   "metadata": {},
   "outputs": [
    {
     "data": {
      "text/plain": [
       "4400"
      ]
     },
     "execution_count": 167,
     "metadata": {},
     "output_type": "execute_result"
    }
   ],
   "source": [
    "l = len(y_pred)\n",
    "l"
   ]
  },
  {
   "cell_type": "code",
   "execution_count": 168,
   "metadata": {},
   "outputs": [
    {
     "data": {
      "text/plain": [
       "array([ 0.99823833], dtype=float32)"
      ]
     },
     "execution_count": 168,
     "metadata": {},
     "output_type": "execute_result"
    }
   ],
   "source": [
    "y_pred[0]"
   ]
  },
  {
   "cell_type": "code",
   "execution_count": 169,
   "metadata": {},
   "outputs": [
    {
     "data": {
      "text/plain": [
       "array([1])"
      ]
     },
     "execution_count": 169,
     "metadata": {},
     "output_type": "execute_result"
    }
   ],
   "source": [
    "y_test[0]"
   ]
  },
  {
   "cell_type": "code",
   "execution_count": 170,
   "metadata": {},
   "outputs": [],
   "source": [
    "for i in range(0,l):\n",
    "    if(y_pred[i] >= 0.5):\n",
    "        y_pred[i]=int(1)\n",
    "    else:\n",
    "        y_pred[i]=int(0)"
   ]
  },
  {
   "cell_type": "code",
   "execution_count": 171,
   "metadata": {},
   "outputs": [],
   "source": [
    "y_pred=y_pred.astype(int)"
   ]
  },
  {
   "cell_type": "code",
   "execution_count": 172,
   "metadata": {},
   "outputs": [],
   "source": [
    "from sklearn.metrics import confusion_matrix"
   ]
  },
  {
   "cell_type": "code",
   "execution_count": 173,
   "metadata": {},
   "outputs": [
    {
     "data": {
      "text/plain": [
       "array([[ 142,   82],\n",
       "       [  13, 4163]])"
      ]
     },
     "execution_count": 173,
     "metadata": {},
     "output_type": "execute_result"
    }
   ],
   "source": [
    "matrix = confusion_matrix(y_test,y_pred)\n",
    "matrix"
   ]
  },
  {
   "cell_type": "code",
   "execution_count": 178,
   "metadata": {},
   "outputs": [
    {
     "data": {
      "text/plain": [
       "1"
      ]
     },
     "execution_count": 178,
     "metadata": {},
     "output_type": "execute_result"
    }
   ],
   "source": [
    "pr=model.predict(np.array([[35,75,90,70,80]]))\n",
    "if(pr > 0.5):\n",
    "    pr =int(1)\n",
    "else:\n",
    "    pr =int(0)\n",
    "pr    "
   ]
  },
  {
   "cell_type": "code",
   "execution_count": 180,
   "metadata": {},
   "outputs": [
    {
     "data": {
      "text/plain": [
       "'/home/dsxuser/work'"
      ]
     },
     "execution_count": 180,
     "metadata": {},
     "output_type": "execute_result"
    }
   ],
   "source": [
    "import os\n",
    "cwd = os.getcwd()\n",
    "cwd"
   ]
  },
  {
   "cell_type": "code",
   "execution_count": 181,
   "metadata": {},
   "outputs": [
    {
     "name": "stdout",
     "output_type": "stream",
     "text": [
      "project.h5\r\n"
     ]
    }
   ],
   "source": [
    "get_ipython().system(u'tar -zcvf mymodel.tgz project.h5')"
   ]
  },
  {
   "cell_type": "code",
   "execution_count": 182,
   "metadata": {},
   "outputs": [
    {
     "name": "stderr",
     "output_type": "stream",
     "text": [
      "/opt/conda/envs/DSX-Python35/lib/python3.5/site-packages/sklearn/cross_validation.py:41: DeprecationWarning: This module was deprecated in version 0.18 in favor of the model_selection module into which all the refactored classes and functions are moved. Also note that the interface of the new CV iterators are different from that of this module. This module will be removed in 0.20.\n",
      "  \"This module will be removed in 0.20.\", DeprecationWarning)\n"
     ]
    }
   ],
   "source": [
    "from watson_machine_learning_client import WatsonMachineLearningAPIClient"
   ]
  },
  {
   "cell_type": "code",
   "execution_count": 183,
   "metadata": {},
   "outputs": [],
   "source": [
    "wml_credentials={\n",
    "  \"url\": \"https://eu-gb.ml.cloud.ibm.com\",\n",
    "  \"access_key\": \"yi9SvHEJjlmangHkOixFukGDIKQUOrpp9XkBs_tlMl5X\",\n",
    "  \"username\": \"e09a4150-fdce-4a5c-b18f-d4c109335258\",\n",
    "  \"password\": \"7613b6aa-afff-40f9-8b49-7aa92080156d\",\n",
    "  \"instance_id\": \"7e0db7eb-7183-48c2-9a41-7ee8aad5b431\"\n",
    "}"
   ]
  },
  {
   "cell_type": "code",
   "execution_count": 184,
   "metadata": {},
   "outputs": [],
   "source": [
    "client = WatsonMachineLearningAPIClient( wml_credentials )"
   ]
  },
  {
   "cell_type": "code",
   "execution_count": 185,
   "metadata": {},
   "outputs": [],
   "source": [
    "metadata = {\n",
    "    client.repository.ModelMetaNames.NAME: \"keras model\",\n",
    "    client.repository.ModelMetaNames.FRAMEWORK_NAME: \"tensorflow\",\n",
    "    client.repository.ModelMetaNames.FRAMEWORK_LIBRARIES:[{'name':'keras','version':'2.1.3'}],\n",
    "    client.repository.ModelMetaNames.FRAMEWORK_VERSION: \"1.5\"\n",
    "}"
   ]
  },
  {
   "cell_type": "code",
   "execution_count": 186,
   "metadata": {},
   "outputs": [],
   "source": [
    "model_details = client.repository.store_model( model=\"mymodel.tgz\", meta_props=metadata )"
   ]
  },
  {
   "cell_type": "code",
   "execution_count": 187,
   "metadata": {},
   "outputs": [
    {
     "name": "stdout",
     "output_type": "stream",
     "text": [
      "\n",
      "\n",
      "#######################################################################################\n",
      "\n",
      "Synchronous deployment creation for uid: '18eac719-7cb9-4866-9b4b-55444768a22e' started\n",
      "\n",
      "#######################################################################################\n",
      "\n",
      "\n",
      "INITIALIZING\n",
      "DEPLOY_IN_PROGRESS\n",
      "DEPLOY_SUCCESS\n",
      "\n",
      "\n",
      "------------------------------------------------------------------------------------------------\n",
      "Successfully finished deployment creation, deployment_uid='0ab70037-e182-4128-adbf-f613897dc0c3'\n",
      "------------------------------------------------------------------------------------------------\n",
      "\n",
      "\n"
     ]
    }
   ],
   "source": [
    "model_id = model_details[\"metadata\"][\"guid\"]\n",
    "model_deployment_details = client.deployments.create( artifact_uid=model_id, name=\"deployment\" )"
   ]
  },
  {
   "cell_type": "code",
   "execution_count": 188,
   "metadata": {},
   "outputs": [],
   "source": [
    "scoring_endpoint = client.deployments.get_scoring_url(model_deployment_details)"
   ]
  },
  {
   "cell_type": "code",
   "execution_count": 189,
   "metadata": {},
   "outputs": [
    {
     "data": {
      "text/plain": [
       "'https://eu-gb.ml.cloud.ibm.com/v3/wml_instances/7e0db7eb-7183-48c2-9a41-7ee8aad5b431/deployments/0ab70037-e182-4128-adbf-f613897dc0c3/online'"
      ]
     },
     "execution_count": 189,
     "metadata": {},
     "output_type": "execute_result"
    }
   ],
   "source": [
    "scoring_endpoint"
   ]
  },
  {
   "cell_type": "code",
   "execution_count": null,
   "metadata": {},
   "outputs": [],
   "source": []
  }
 ],
 "metadata": {
  "kernelspec": {
   "display_name": "Python 3.5",
   "language": "python",
   "name": "python3"
  },
  "language_info": {
   "codemirror_mode": {
    "name": "ipython",
    "version": 3
   },
   "file_extension": ".py",
   "mimetype": "text/x-python",
   "name": "python",
   "nbconvert_exporter": "python",
   "pygments_lexer": "ipython3",
   "version": "3.5.5"
  }
 },
 "nbformat": 4,
 "nbformat_minor": 2
}
